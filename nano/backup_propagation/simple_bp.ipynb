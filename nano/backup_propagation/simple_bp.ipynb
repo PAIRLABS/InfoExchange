	import math
	import numpy as np

	def ActivationFunction(x):
	    #return 1/(1+math.exp(-x))
	    exp = np.exp(-x)
	    return 1/(1+exp)

	def ActivationFunctionPartialDerivative(x):
	    #return ActivationFunction(x)*(1-ActivationFunction(x))
	    return ActivationFunction(x)*(1-ActivationFunction(x))

	def BackPropagation(L1,W2,W3,y,alpha):
		
		print('\n---------start BackPropagation------------\n')

		L2_z=L1.dot(W2)
		#print("L2_z")
		#print(L2_z)

		L2_a = ActivationFunction(L2_z)
		#print("\nL2_a")
		#print(L2_a)

		L3_z = L2_a.dot(W3)
		#print("\nL3_z")
		#print(L3_z)

		L3_a = ActivationFunction(L3_z)
		#print("\nL3_a")
		#print(L3_a)

		err = y-L3_a
		print("\nerr = ")
		print(err)

		delta_3=(L3_a-y)*ActivationFunctionPartialDerivative(L3_z);
		#print("\ndelta_3")
		#print(delta_3)

		cw3=np.transpose(L2_a)*delta_3
		#print("\ncw3")
		#print(cw3)

		delta_2 = np.transpose(W3)*delta_3*ActivationFunctionPartialDerivative(L2_z)
		#print("\ndelta_2")
		#print(delta_2)

		cw2=np.dot(np.transpose(L1),delta_2)
		#print("\ncw2")
		#print(cw2)

		W2 = W2 - alpha * cw2
		W3 = W3 - alpha * cw3

		print('\n---------finish------------\n')

		print("\nnew w2:")
		print(W2)
		print("\nnew w3:")
		print(W3)

		return [W2,W3]

	def main():

		x1=0.3
		x2=0.5
		y = 0.1
		alpha = 1.5

		L1=np.array([
			[x1,x2]
			])

		W2=np.array([
			[0.2,-0.7],
			[0.8,-0.5]
			])

		W3=np.array([
			[0.3],
			[0.5]
			])

		print("ori w2:")
		print(W2)
		print("\n ori w3")
		print(W3)

		W2,W3=BackPropagation(L1,W2,W3,y,alpha)

		print('\n\n\n----second round----\n')
		BackPropagation(L1,W2,W3,y,alpha)


	if __name__ == '__main__':
	    main()